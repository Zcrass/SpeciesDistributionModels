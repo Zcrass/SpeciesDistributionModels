{
 "cells": [
  {
   "cell_type": "markdown",
   "metadata": {},
   "source": [
    "# Simple Species Distribution Model in Python\n",
    "## Introduction\n",
    "Species distribution model are...\n",
    "\n",
    "### Species Distribution Models \n",
    "Species Distribution Models (SDM)\n",
    "We are going to produce an species distribution model using python and GBIF data.\n",
    "\n",
    "### Species of interest\n",
    "We selected a Magnolia species called Magnolia iltisiana. This is a Tree that inhabits in the western part of Mexico. \n"
   ]
  },
  {
   "cell_type": "markdown",
   "metadata": {},
   "source": [
    "## Methods\n",
    "### Data download\n",
    "For this guide we will use data downloaded from the Global Biodiversity Information Facility ([GBIF](https://www.gbif.org/)). the GBIF database contains a huge collection of information about all kinds of organisms. Our main interest in this database is the information about the distribution of the species.\n",
    "For this guide we will search and download the information about our species Magnolia iltisiana.\n",
    "\n",
    "![Main GBIF](/assets/images/assets/images/01_gbif_main.png \"GBIF main site\")\n",
    "\n",
    "We have to select the correct species from the suggested results.\n",
    "\n",
    "![GBIF search](/assets/images/assets/images/02_gbif_search.png \"GBIF search results\")\n",
    "\n",
    "Here we can see all the data available for this species in the GBIF database. In our case our main interest are the ocurrences link above the images.\n",
    "\n",
    "![GBIF species data](/assets/images/assets/images/03_gbif_M_iltisiana.png \"GBIF species data\")\n",
    "\n",
    "In the occurrences site we found a table with all kind of information about the species. In particular we can find the localities were the species has been found. This data is gatered from different sources. We can review this in the Basis of record and Dataset columns.\n",
    "\n",
    "![GBIF species occurrences](/assets/images/assets/images/04_gbif_occurrences.png \"GBIF species occurrences\")\n",
    "\n",
    "Once we reviewed the data of our species we can download the database using the link at the top of the website. This will generate an unique download link with their corresponding reference. It is recommended to save this information for future reference.\n",
    "\n",
    "As variables for our model we will use the 19 bioclimatic variables of [world clim](https://www.worldclim.org/data/worldclim21.html). We also going to include the elevation layer also from world clim. All layer were downloaded with a resolution of 30s and saved in a folder called *variables*.\n",
    "\n",
    "![Worldclim variables](/assets/images/assets/images/05_worldclim.png \"Worldclim variables\")"
   ]
  },
  {
   "cell_type": "markdown",
   "metadata": {},
   "source": [
    "#### Data preprocesing\n",
    "We will mainly use the pandas and geopandas library for the data management and matplotlib.pyplot for the figures. For the clustering and predictive models we will use the modules of scikit learn. Aditionally we will use a couple of custom functions from the file sdm_functions.py\n"
   ]
  },
  {
   "cell_type": "code",
   "execution_count": null,
   "metadata": {},
   "outputs": [],
   "source": [
    "import geopandas as gpd\n",
    "import matplotlib.pyplot as plt\n",
    "import numpy as np\n",
    "import pandas as pd\n",
    "import random\n",
    "import rasterio\n",
    "from rasterio.plot import show\n",
    "from shapely.geometry import Polygon\n",
    "from sklearn import decomposition\n",
    "from sklearn.cluster import AgglomerativeClustering, KMeans\n",
    "from sklearn.ensemble import RandomForestRegressor\n",
    "from sklearn.metrics import mean_squared_error\n",
    "import sys\n",
    "\n",
    "from sdm_functions import sdm_functions as fun\n"
   ]
  },
  {
   "attachments": {},
   "cell_type": "markdown",
   "metadata": {},
   "source": [
    "We start by reading the data downloaded from GBIF:"
   ]
  },
  {
   "cell_type": "code",
   "execution_count": null,
   "metadata": {},
   "outputs": [],
   "source": [
    "sp = pd.read_csv('magnolia_iltisiana.txt', sep='\\t')\n",
    "sp"
   ]
  },
  {
   "cell_type": "markdown",
   "metadata": {},
   "source": [
    "As we can see the original file includes several columns. For our case we only need the georeference data. In this case, not all datapoints include coordinates so we will discard the localities without this information. Optionally we can save this data as a new file for future references."
   ]
  },
  {
   "cell_type": "code",
   "execution_count": null,
   "metadata": {},
   "outputs": [],
   "source": [
    "sp = pd.read_csv('magnolia_iltisiana.txt', sep='\\t', usecols=['scientificName', 'decimalLatitude', 'decimalLongitude']).dropna().drop_duplicates()\n",
    "sp['presence'] = True\n",
    "sp = sp.reset_index()\n",
    "# sp.to_csv('magnolia_iltisiana_vars.csv', index=False) ### optional: saves data to a new csv file\n",
    "sp"
   ]
  },
  {
   "attachments": {},
   "cell_type": "markdown",
   "metadata": {},
   "source": [
    "Now we have a dataframe with only 64 datapoints. We will convert dataframe into a geopandas dataframe and then we will extract the extent of the points to define the study area. We use a distance of 1 degree around the points to define a margin.\n",
    " visualize it in a map as follows:"
   ]
  },
  {
   "cell_type": "code",
   "execution_count": null,
   "metadata": {},
   "outputs": [],
   "source": [
    "sp = gpd.GeoDataFrame(sp, crs=\"epsg:4326\", geometry=gpd.points_from_xy(sp.decimalLongitude, sp.decimalLatitude))    \n",
    "extent = fun.extent_poly(df=sp, margin_size=1, crs=\"epsg:4326\")\n"
   ]
  },
  {
   "attachments": {},
   "cell_type": "markdown",
   "metadata": {},
   "source": [
    "Now we can visualize our localities in a map. We are importing the Mexican states as background of our map."
   ]
  },
  {
   "cell_type": "code",
   "execution_count": null,
   "metadata": {},
   "outputs": [],
   "source": [
    "dest = gpd.read_file(\"shapefiles/dest20gw.zip\")\n",
    "fig, ax = plt.subplots()\n",
    "ax.set_aspect(\"equal\")\n",
    "plt.xlim([extent.bounds['minx'][0], extent.bounds['maxx'][0]])\n",
    "plt.ylim([extent.bounds['miny'][0], extent.bounds['maxy'][0]])\n",
    "\n",
    "dest.plot(ax=ax, color='lightgrey', edgecolor='darkgrey')\n",
    "sp.plot(ax = ax, color=\"green\", edgecolor = \"black\") \n",
    "plt.show()"
   ]
  }
 ],
 "metadata": {
  "kernelspec": {
   "display_name": "Python 3 (ipykernel)",
   "language": "python",
   "name": "python3"
  },
  "language_info": {
   "codemirror_mode": {
    "name": "ipython",
    "version": 3
   },
   "file_extension": ".py",
   "mimetype": "text/x-python",
   "name": "python",
   "nbconvert_exporter": "python",
   "pygments_lexer": "ipython3",
   "version": "3.10.9"
  }
 },
 "nbformat": 4,
 "nbformat_minor": 2
}
